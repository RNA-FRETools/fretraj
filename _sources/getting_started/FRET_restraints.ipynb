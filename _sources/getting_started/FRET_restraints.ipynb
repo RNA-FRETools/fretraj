{
 "cells": [
  {
   "cell_type": "markdown",
   "id": "6d4c6690",
   "metadata": {},
   "source": [
    "# Introducing FRET restraints"
   ]
  },
  {
   "cell_type": "code",
   "execution_count": 1,
   "id": "2b6428ca",
   "metadata": {},
   "outputs": [
    {
     "name": "stdout",
     "output_type": "stream",
     "text": [
      "The burst submodule could not be imported\n",
      "\n"
     ]
    }
   ],
   "source": [
    "import numpy as np\n",
    "from matplotlib import pyplot as plt\n",
    "import pandas as pd\n",
    "import mdtraj as md\n",
    "import fretraj as ft"
   ]
  },
  {
   "cell_type": "code",
   "execution_count": 2,
   "id": "6cde37af",
   "metadata": {},
   "outputs": [],
   "source": [
    "import importlib"
   ]
  },
  {
   "cell_type": "markdown",
   "id": "994df161",
   "metadata": {},
   "source": [
    "### Accessible contact volume\n",
    "\n",
    "Calculate ACVs for donor and acceptor dye on an **solvated and energy minimized** biomolecule.\n",
    "> Note: the generated .gro file must first be converted to a .pdb file using `gmx trjconv`"
   ]
  },
  {
   "cell_type": "code",
   "execution_count": 3,
   "id": "19cf74ee",
   "metadata": {},
   "outputs": [],
   "source": [
    "labels = ft.cloud.labeling_params('gmx/mn_riboswitch_labels.json', verbose=False)"
   ]
  },
  {
   "cell_type": "code",
   "execution_count": 4,
   "id": "fb71e5c6",
   "metadata": {},
   "outputs": [],
   "source": [
    "struct = md.load_pdb('gmx/mn_riboswitch.pdb')\n",
    "struct_nosolv = struct.remove_solvent()"
   ]
  },
  {
   "cell_type": "code",
   "execution_count": 5,
   "id": "c6dcea56",
   "metadata": {},
   "outputs": [],
   "source": [
    "don = ft.cloud.Volume(struct_nosolv, '1-B-U1-O5\\'', labels)\n",
    "acc = ft.cloud.Volume(struct_nosolv, '1-A-A1-O5\\'', labels)"
   ]
  },
  {
   "cell_type": "markdown",
   "id": "0a480bb6",
   "metadata": {},
   "source": [
    "Compute a FRET trajectory from the ACVs"
   ]
  },
  {
   "cell_type": "code",
   "execution_count": 6,
   "id": "d3fe34f4",
   "metadata": {},
   "outputs": [],
   "source": [
    "fret_traj = ft.cloud.FRET(don, acc, 'A1-U1', labels)"
   ]
  },
  {
   "cell_type": "code",
   "execution_count": 7,
   "id": "d18006a0",
   "metadata": {},
   "outputs": [
    {
     "data": {
      "text/html": [
       "<div>\n",
       "<style scoped>\n",
       "    .dataframe tbody tr th:only-of-type {\n",
       "        vertical-align: middle;\n",
       "    }\n",
       "\n",
       "    .dataframe tbody tr th {\n",
       "        vertical-align: top;\n",
       "    }\n",
       "\n",
       "    .dataframe thead th {\n",
       "        text-align: right;\n",
       "    }\n",
       "</style>\n",
       "<table border=\"1\" class=\"dataframe\">\n",
       "  <thead>\n",
       "    <tr style=\"text-align: right;\">\n",
       "      <th></th>\n",
       "      <th>R0 (A)</th>\n",
       "      <th>&lt;R_DA&gt; (A)</th>\n",
       "      <th>&lt;E_DA&gt;</th>\n",
       "      <th>&lt;R_DA_E&gt; (A)</th>\n",
       "      <th>R_attach (A)</th>\n",
       "      <th>R_mp (A)</th>\n",
       "    </tr>\n",
       "  </thead>\n",
       "  <tbody>\n",
       "    <tr>\n",
       "      <th>value</th>\n",
       "      <td>54.0</td>\n",
       "      <td>96.1</td>\n",
       "      <td>0.04</td>\n",
       "      <td>91.8</td>\n",
       "      <td>86.6</td>\n",
       "      <td>94.4</td>\n",
       "    </tr>\n",
       "    <tr>\n",
       "      <th>std</th>\n",
       "      <td>NaN</td>\n",
       "      <td>10.7</td>\n",
       "      <td>0.03</td>\n",
       "      <td>13.0</td>\n",
       "      <td>NaN</td>\n",
       "      <td>NaN</td>\n",
       "    </tr>\n",
       "  </tbody>\n",
       "</table>\n",
       "</div>"
      ],
      "text/plain": [
       "       R0 (A)  <R_DA> (A)  <E_DA>  <R_DA_E> (A)  R_attach (A)  R_mp (A)\n",
       "value    54.0        96.1    0.04          91.8          86.6      94.4\n",
       "std       NaN        10.7    0.03          13.0           NaN       NaN"
      ]
     },
     "execution_count": 7,
     "metadata": {},
     "output_type": "execute_result"
    }
   ],
   "source": [
    "fret_traj.values"
   ]
  },
  {
   "cell_type": "markdown",
   "id": "79cdf8b0",
   "metadata": {},
   "source": [
    "Create a Plumed object from the loaded structure and the ACVs. Look for neighboring phosphorus atoms within a range of 15 A."
   ]
  },
  {
   "cell_type": "code",
   "execution_count": 8,
   "id": "ab6e35eb",
   "metadata": {},
   "outputs": [
    {
     "ename": "AttributeError",
     "evalue": "module 'fretraj' has no attribute 'restraints'",
     "output_type": "error",
     "traceback": [
      "\u001b[0;31m---------------------------------------------------------------------------\u001b[0m",
      "\u001b[0;31mAttributeError\u001b[0m                            Traceback (most recent call last)",
      "Cell \u001b[0;32mIn[8], line 1\u001b[0m\n\u001b[0;32m----> 1\u001b[0m plumed \u001b[38;5;241m=\u001b[39m \u001b[43mft\u001b[49m\u001b[38;5;241;43m.\u001b[39;49m\u001b[43mrestraints\u001b[49m\u001b[38;5;241m.\u001b[39mPlumed(struct_nosolv, [don, acc], selection\u001b[38;5;241m=\u001b[39m\u001b[38;5;124m'\u001b[39m\u001b[38;5;124mname P\u001b[39m\u001b[38;5;124m'\u001b[39m, cutoff\u001b[38;5;241m=\u001b[39m\u001b[38;5;241m15\u001b[39m)\n",
      "\u001b[0;31mAttributeError\u001b[0m: module 'fretraj' has no attribute 'restraints'"
     ]
    }
   ],
   "source": [
    "plumed = ft.restraints.Plumed(struct_nosolv, [don, acc], selection='name P', cutoff=15)"
   ]
  },
  {
   "cell_type": "markdown",
   "id": "0bf22283",
   "metadata": {},
   "source": [
    "Set your desired FRET value that you want the simulation converge to. The corresponding $\\langle R_{DA,E}\\rangle$ will be computed from the $\\langle E\\rangle$. The $\\langle R_{mp}\\rangle$ will be calculated from $\\langle E\\rangle$ using a third order polynomial (Kalinin et al., *Nat. Methods*, 2012)"
   ]
  },
  {
   "cell_type": "code",
   "execution_count": null,
   "id": "b3b8a587",
   "metadata": {},
   "outputs": [],
   "source": [
    "targetFRET = 0.6\n",
    "mean_R_DA_E = ft.fret.mean_dist_DA_fromFRET(None,None,targetFRET,54)\n",
    "targetRmp = ft.fret.R_DAE_to_Rmp(mean_R_DA_E)"
   ]
  },
  {
   "cell_type": "markdown",
   "id": "e53f313c",
   "metadata": {},
   "source": [
    "Compile a plumed input file for the MD simulation"
   ]
  },
  {
   "cell_type": "code",
   "execution_count": null,
   "id": "c0e0f5b5",
   "metadata": {},
   "outputs": [],
   "source": [
    "plumed.write_plumed('gmx/out/plumed_A1-U1.dat', targetRmp, 100, 100)"
   ]
  },
  {
   "cell_type": "markdown",
   "id": "fdc90629",
   "metadata": {},
   "source": [
    "To illustrate the restaints save a visualization skript for VMD or PyMOL which can be run with either `vmd_vis -c filename.gro -x trajectory.xtc -v vis.vmd` or `pymol_vis -c filename.gro -x trajectory.xtc -v vis.py`"
   ]
  },
  {
   "cell_type": "code",
   "execution_count": null,
   "id": "35a7a5cb",
   "metadata": {},
   "outputs": [],
   "source": [
    "plumed.write_vmd('gmx/out/vis.vmd')"
   ]
  },
  {
   "cell_type": "code",
   "execution_count": null,
   "id": "e240cab7",
   "metadata": {},
   "outputs": [],
   "source": [
    "plumed.write_pymol('gmx/out/vis.py')"
   ]
  },
  {
   "cell_type": "markdown",
   "id": "af4bc2e9",
   "metadata": {},
   "source": [
    "Save force field and topology files files of the mean position pseudoatoms"
   ]
  },
  {
   "cell_type": "code",
   "execution_count": null,
   "id": "c9913140",
   "metadata": {},
   "outputs": [],
   "source": [
    "plumed.write_pseudo('gmx/out/MP.pdb', 'gmx/out/MP.itp')"
   ]
  },
  {
   "cell_type": "code",
   "execution_count": null,
   "id": "832dbfb2",
   "metadata": {},
   "outputs": [],
   "source": [
    "don.save_mp('gmx/out/mn_riboswitch_D.dat', units='nm', format='plain')\n",
    "acc.save_mp('gmx/out/mn_riboswitch_A.dat', units='nm', format='plain')"
   ]
  },
  {
   "cell_type": "markdown",
   "id": "126f7617",
   "metadata": {},
   "source": [
    "First, backup the original .gro file. Then, insert the mean position coordinates given in **MP.pdb** at positions specified by **riboswitch_D.dat** and **riboswitch_A.dat** \n",
    "\n",
    "```sh\n",
    "mv em/mn_riboswitch.gro em/mn_riboswitch_original.gro\n",
    "gmx insert-molecules -ci MP.pdb -f mn_riboswitch_original.gro -o mn_riboswitch.gro -ip out/mn_riboswitch_D.dat -replace water |& tee tmp_insert.dat\n",
    "gmx insert-molecules -ci MP.pdb -f mn_riboswitch.gro -o mn_riboswitch.gro -ip out/mn_riboswitch_A.dat -replace water |& tee -a tmp_insert.dat\n",
    "```\n",
    "\n",
    "Run the following command will tell you how many solvent molecules have been replaced by the MP pseudoatoms and how to update the topology. \n",
    "\n",
    "```\n",
    "awk '$1 == \"Replaced\" {sum += $2}; END {print \"\\nIn your topology.top file under the section [ molecules ] do the following:\\n(1) decrease the number of solvent molecules by \" sum \"\\n(2) add the following line:\\nMP        2\"}' tmp_insert.dat && rm tmp_insert.dat\n",
    "```"
   ]
  },
  {
   "cell_type": "markdown",
   "id": "c2f1063a",
   "metadata": {},
   "source": [
    "not needed\n",
    "```sh\n",
    "mkdir md0\n",
    "mdp_dir=mdp\n",
    "structureName=mn_riboswitch_s4_cleaned\n",
    "plumedFile=plumed_A1-U1.dat\n",
    "\n",
    "gmx grompp -f \"$mdp_dir\"/md0.mdp -c npt/\"$structureName\".gro -p \"$structureName\".top -o md0/\"$structureName\".tpr -po md0/\"$structureName\".mdp\n",
    "gmx mdrun -v -s md0/\"$structureName\".tpr -c md0/\"$structureName\".gro -x md0/\"$structureName\".xtc -cpo md0/\"$structureName\".cpt -e md0/\"$structureName\".edr -g md0/\"$structureName\".log -plumed \"$plumedFile\"\n",
    "```"
   ]
  },
  {
   "cell_type": "code",
   "execution_count": null,
   "id": "bbe59fa5",
   "metadata": {},
   "outputs": [],
   "source": [
    "single_run"
   ]
  }
 ],
 "metadata": {
  "jupytext": {
   "formats": "ipynb,md:myst",
   "text_representation": {
    "extension": ".md",
    "format_name": "myst",
    "format_version": 0.13,
    "jupytext_version": "1.10.3"
   }
  },
  "kernelspec": {
   "display_name": "Python 3",
   "language": "python",
   "name": "python3"
  },
  "language_info": {
   "codemirror_mode": {
    "name": "ipython",
    "version": 3
   },
   "file_extension": ".py",
   "mimetype": "text/x-python",
   "name": "python",
   "nbconvert_exporter": "python",
   "pygments_lexer": "ipython3",
   "version": "3.9.18"
  },
  "source_map": [
   13,
   17,
   25,
   27,
   34,
   38,
   43,
   46,
   50,
   54,
   56,
   60,
   62,
   66,
   70,
   74,
   76,
   80,
   84,
   86,
   90,
   94,
   97,
   113,
   126
  ]
 },
 "nbformat": 4,
 "nbformat_minor": 5
}