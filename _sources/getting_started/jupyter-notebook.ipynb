{
 "cells": [
  {
   "cell_type": "markdown",
   "id": "22a19aba",
   "metadata": {},
   "source": [
    "# *FRETraj* and Jupyter\n",
    "\n",
    "This notebook demonstrates how to interface *FRETraj* with Jupyter. We will\n",
    "compute **ACVs** for the same DNA hairpin as in the previous PyMOL example and\n",
    "predict a **mean FRET efficiency** between donor and acceptor."
   ]
  },
  {
   "cell_type": "code",
   "execution_count": 1,
   "id": "5d3344de",
   "metadata": {},
   "outputs": [
    {
     "name": "stdout",
     "output_type": "stream",
     "text": [
      "The burst submodule could not be imported\n",
      "\n"
     ]
    }
   ],
   "source": [
    "import mdtraj as md\n",
    "import fretraj as ft\n",
    "import os\n",
    "example_dir = '../../src/fretraj/examples/'"
   ]
  },
  {
   "cell_type": "markdown",
   "id": "28698334",
   "metadata": {},
   "source": [
    "Let's first load a PDB file of a DNA."
   ]
  },
  {
   "cell_type": "code",
   "execution_count": 2,
   "id": "2d2c5b6c",
   "metadata": {},
   "outputs": [],
   "source": [
    "struct = md.load(os.path.join(example_dir+'DNA_hairpin.pdb'))"
   ]
  },
  {
   "cell_type": "markdown",
   "id": "1043bcea",
   "metadata": {},
   "source": [
    "Next, we load a [parameter file](../background/parameter_file) specifying the positions of the donor and acceptor labels."
   ]
  },
  {
   "cell_type": "code",
   "execution_count": 3,
   "id": "3e07dab0",
   "metadata": {
    "tags": [
     "hide-output"
    ]
   },
   "outputs": [
    {
     "data": {
      "text/plain": [
       "{'Position': {'Cy3-20-C5': {'attach_id': 626,\n",
       "   'linker_length': 20,\n",
       "   'linker_width': 5,\n",
       "   'dye_radius1': 8,\n",
       "   'dye_radius2': 3,\n",
       "   'dye_radius3': 1.5,\n",
       "   'cv_fraction': 0.57,\n",
       "   'cv_thickness': 3,\n",
       "   'use_LabelLib': True,\n",
       "   'simulation_type': 'AV3',\n",
       "   'grid_spacing': 1.0,\n",
       "   'mol_selection': 'all',\n",
       "   'state': 1,\n",
       "   'frame_mdtraj': 0,\n",
       "   'contour_level_AV': 0,\n",
       "   'contour_level_CV': 0.7,\n",
       "   'b_factor': 100,\n",
       "   'gaussian_resolution': 2,\n",
       "   'grid_buffer': 2.0,\n",
       "   'transparent_AV': True},\n",
       "  'Cy5-44-P1': {'attach_id': 1395,\n",
       "   'linker_length': 20,\n",
       "   'linker_width': 5,\n",
       "   'dye_radius1': 9.5,\n",
       "   'dye_radius2': 3,\n",
       "   'dye_radius3': 1.5,\n",
       "   'cv_fraction': 0.39,\n",
       "   'cv_thickness': 3,\n",
       "   'use_LabelLib': True,\n",
       "   'simulation_type': 'AV3',\n",
       "   'grid_spacing': 1.0,\n",
       "   'mol_selection': 'all',\n",
       "   'state': 1,\n",
       "   'frame_mdtraj': 0,\n",
       "   'contour_level_AV': 0,\n",
       "   'contour_level_CV': 0.7,\n",
       "   'b_factor': 100,\n",
       "   'gaussian_resolution': 2,\n",
       "   'grid_buffer': 2.0,\n",
       "   'transparent_AV': True}},\n",
       " 'Distance': {'Cy3-Cy5': {'R0': 54, 'n_dist': 1000000}}}"
      ]
     },
     "execution_count": 3,
     "metadata": {},
     "output_type": "execute_result"
    }
   ],
   "source": [
    "labels = ft.cloud.labeling_params(os.path.join(example_dir+'DNA_hairpin_labels.json'), verbose=False)\n",
    "labels"
   ]
  },
  {
   "cell_type": "markdown",
   "id": "109e0013",
   "metadata": {},
   "source": [
    "We now calculate an ACV for the donor (`Cy3-20-C5`) and acceptor (`Cy5-44-P1`) position."
   ]
  },
  {
   "cell_type": "code",
   "execution_count": 4,
   "id": "97eaab6d",
   "metadata": {},
   "outputs": [],
   "source": [
    "acv_D = ft.cloud.Volume(struct, 'Cy3-20-C5', labels)\n",
    "acv_A = ft.cloud.Volume(struct, 'Cy5-44-P1', labels)"
   ]
  },
  {
   "cell_type": "markdown",
   "id": "a9e4bc31",
   "metadata": {},
   "source": [
    "The transfer efficiency is calculated by randomly sampling distances between the two ACVs."
   ]
  },
  {
   "cell_type": "code",
   "execution_count": 5,
   "id": "d0b966fd",
   "metadata": {},
   "outputs": [
    {
     "data": {
      "text/html": [
       "<div>\n",
       "<style scoped>\n",
       "    .dataframe tbody tr th:only-of-type {\n",
       "        vertical-align: middle;\n",
       "    }\n",
       "\n",
       "    .dataframe tbody tr th {\n",
       "        vertical-align: top;\n",
       "    }\n",
       "\n",
       "    .dataframe thead th {\n",
       "        text-align: right;\n",
       "    }\n",
       "</style>\n",
       "<table border=\"1\" class=\"dataframe\">\n",
       "  <thead>\n",
       "    <tr style=\"text-align: right;\">\n",
       "      <th></th>\n",
       "      <th>R0 (A)</th>\n",
       "      <th>&lt;R_DA&gt; (A)</th>\n",
       "      <th>&lt;E_DA&gt;</th>\n",
       "      <th>&lt;R_DA_E&gt; (A)</th>\n",
       "      <th>R_attach (A)</th>\n",
       "      <th>R_mp (A)</th>\n",
       "    </tr>\n",
       "  </thead>\n",
       "  <tbody>\n",
       "    <tr>\n",
       "      <th>value</th>\n",
       "      <td>54.0</td>\n",
       "      <td>50.9</td>\n",
       "      <td>0.58</td>\n",
       "      <td>51.1</td>\n",
       "      <td>44.4</td>\n",
       "      <td>48.2</td>\n",
       "    </tr>\n",
       "    <tr>\n",
       "      <th>std</th>\n",
       "      <td>NaN</td>\n",
       "      <td>10.5</td>\n",
       "      <td>0.24</td>\n",
       "      <td>8.3</td>\n",
       "      <td>NaN</td>\n",
       "      <td>NaN</td>\n",
       "    </tr>\n",
       "  </tbody>\n",
       "</table>\n",
       "</div>"
      ],
      "text/plain": [
       "       R0 (A)  <R_DA> (A)  <E_DA>  <R_DA_E> (A)  R_attach (A)  R_mp (A)\n",
       "value    54.0        50.9    0.58          51.1          44.4      48.2\n",
       "std       NaN        10.5    0.24           8.3           NaN       NaN"
      ]
     },
     "execution_count": 5,
     "metadata": {},
     "output_type": "execute_result"
    }
   ],
   "source": [
    "fret = ft.cloud.FRET(acv_D, acv_A, 'Cy3-Cy5', labels)\n",
    "fret.values"
   ]
  },
  {
   "cell_type": "markdown",
   "id": "2fd2ac2e",
   "metadata": {},
   "source": [
    "Visualize the ACV together with the DNA directly in the notebook."
   ]
  },
  {
   "cell_type": "code",
   "execution_count": 6,
   "id": "58059a5a",
   "metadata": {
    "tags": [
     "remove-output"
    ]
   },
   "outputs": [
    {
     "ename": "AttributeError",
     "evalue": "module 'fretraj' has no attribute 'jupyter'",
     "output_type": "error",
     "traceback": [
      "\u001b[0;31m---------------------------------------------------------------------------\u001b[0m",
      "\u001b[0;31mAttributeError\u001b[0m                            Traceback (most recent call last)",
      "Cell \u001b[0;32mIn[6], line 3\u001b[0m\n\u001b[1;32m      1\u001b[0m acv_D_traj \u001b[38;5;241m=\u001b[39m ft\u001b[38;5;241m.\u001b[39mcloud\u001b[38;5;241m.\u001b[39mcreate_acv_traj([acv_D])\n\u001b[1;32m      2\u001b[0m acv_A_traj \u001b[38;5;241m=\u001b[39m ft\u001b[38;5;241m.\u001b[39mcloud\u001b[38;5;241m.\u001b[39mcreate_acv_traj([acv_A])\n\u001b[0;32m----> 3\u001b[0m \u001b[43mft\u001b[49m\u001b[38;5;241;43m.\u001b[39;49m\u001b[43mjupyter\u001b[49m\u001b[38;5;241m.\u001b[39mnglview_trajectory_ACV(struct, acv_D_traj[\u001b[38;5;124m'\u001b[39m\u001b[38;5;124mFV\u001b[39m\u001b[38;5;124m'\u001b[39m], acv_A_traj[\u001b[38;5;124m'\u001b[39m\u001b[38;5;124mFV\u001b[39m\u001b[38;5;124m'\u001b[39m], \n\u001b[1;32m      4\u001b[0m                                           acv_D_traj[\u001b[38;5;124m'\u001b[39m\u001b[38;5;124mCV\u001b[39m\u001b[38;5;124m'\u001b[39m], acv_A_traj[\u001b[38;5;124m'\u001b[39m\u001b[38;5;124mCV\u001b[39m\u001b[38;5;124m'\u001b[39m])\n",
      "\u001b[0;31mAttributeError\u001b[0m: module 'fretraj' has no attribute 'jupyter'"
     ]
    }
   ],
   "source": [
    "acv_D_traj = ft.cloud.create_acv_traj([acv_D])\n",
    "acv_A_traj = ft.cloud.create_acv_traj([acv_A])\n",
    "ft.jupyter.nglview_trajectory_ACV(struct, acv_D_traj['FV'], acv_A_traj['FV'], \n",
    "                                          acv_D_traj['CV'], acv_A_traj['CV'])"
   ]
  },
  {
   "cell_type": "markdown",
   "id": "f6af5d44",
   "metadata": {},
   "source": [
    "```{hint}\n",
    "To see this notebook in action launch a **Binder** instance by clicking on the 🚀 at the top of the page.\n",
    "```"
   ]
  }
 ],
 "metadata": {
  "jupytext": {
   "formats": "ipynb,md:myst",
   "text_representation": {
    "extension": ".md",
    "format_name": "myst",
    "format_version": 0.12,
    "jupytext_version": "1.8.2"
   }
  },
  "kernelspec": {
   "display_name": "Python 3",
   "language": "python",
   "name": "python3"
  },
  "language_info": {
   "codemirror_mode": {
    "name": "ipython",
    "version": 3
   },
   "file_extension": ".py",
   "mimetype": "text/x-python",
   "name": "python",
   "nbconvert_exporter": "python",
   "pygments_lexer": "ipython3",
   "version": "3.9.18"
  },
  "source_map": [
   13,
   21,
   26,
   31,
   33,
   37,
   41,
   45,
   48,
   52,
   55,
   59,
   65
  ]
 },
 "nbformat": 4,
 "nbformat_minor": 5
}