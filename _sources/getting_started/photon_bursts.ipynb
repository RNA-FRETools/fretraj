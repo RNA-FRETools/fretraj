{
 "cells": [
  {
   "cell_type": "markdown",
   "id": "641390ab",
   "metadata": {},
   "source": [
    "# Generating photon bursts\n",
    "\n",
    "*FRETraj* predicts mean FRET efficiencies and distributions thereof for dynamic biomolecules as outlined in the\n",
    "previous sections. FRET histograms of single-molecule experiments are often broadened due to shot-noise. \n",
    "For better comparison of *in vitro* and *in silico* FRET measurements, *FRETraj* can take the **photon noise** into account by simulating fluorescence emission events. The probabilities of donor and acceptor emission are dependent on the quantum yields and fluroescence lifetimes of the dyes as well as the transfer efficiency and thus the distance between their ACVs {cite}`Hoefling.2011, Hoefling.2013`.\n",
    "This notebook show how to simulate **photon bursts** similar to a confocal single-molecule experiment."
   ]
  },
  {
   "cell_type": "code",
   "execution_count": 1,
   "id": "3685f967",
   "metadata": {},
   "outputs": [],
   "source": [
    "import fretraj as ft\n",
    "import pandas as pd\n",
    "from matplotlib import pyplot as plt\n",
    "import seaborn as sns\n",
    "import os"
   ]
  },
  {
   "cell_type": "markdown",
   "id": "bd9e285d",
   "metadata": {},
   "source": [
    "First, we load a parameter file for the burst simulation. The format of this file is described [here](../background/parameter_file.html#burst-simulation)"
   ]
  },
  {
   "cell_type": "code",
   "execution_count": 2,
   "id": "a5a52501",
   "metadata": {
    "tags": [
     "hide-output"
    ]
   },
   "outputs": [
    {
     "data": {
      "text/plain": [
       "{'dyes': {'tauD': 1,\n",
       "  'tauA': 1.4,\n",
       "  'QD': 0.2,\n",
       "  'QA': 0.2,\n",
       "  'dipole_angle_abs_em': 10},\n",
       " 'sampling': {'nbursts': 5000,\n",
       "  'skipframesatstart': 0,\n",
       "  'skipframesatend': 1000,\n",
       "  'multiprocessing': True},\n",
       " 'fret': {'R0': 5.4,\n",
       "  'kappasquare': 0.6666,\n",
       "  'no_gamma': False,\n",
       "  'quenching_radius': 1},\n",
       " 'species': {'name': ['all'],\n",
       "  'unix_pattern_rkappa': ['R_kappa.dat'],\n",
       "  'probability': [1],\n",
       "  'n_trajectory_splits': None},\n",
       " 'bursts': {'lower_limit': 15,\n",
       "  'upper_limit': 150,\n",
       "  'lambda': -2.3,\n",
       "  'averaging': 'all',\n",
       "  'QY_correction': False,\n",
       "  'burst_size_file': None}}"
      ]
     },
     "execution_count": 2,
     "metadata": {},
     "output_type": "execute_result"
    }
   ],
   "source": [
    "parameters = ft.burst.readParameters('burst_data/burst_parameters.json')\n",
    "parameters"
   ]
  },
  {
   "cell_type": "markdown",
   "id": "0fa1d815",
   "metadata": {},
   "source": [
    "Importantly, key `species.unix_pattern_rkappa` in the parameter file points to any file matching the given regular expression. Here, the file `R_kappa.dat` is created from a `ft.cloud.Trajectory` object (see [Working with Trajectories](trajectories.md)) and contains inter-dye distance $R_\\text{DA}$(t) and $\\kappa^2$ values."
   ]
  },
  {
   "cell_type": "code",
   "execution_count": 3,
   "id": "1a25dbd0",
   "metadata": {
    "hide-input": null
   },
   "outputs": [
    {
     "data": {
      "text/html": [
       "<div>\n",
       "<style scoped>\n",
       "    .dataframe tbody tr th:only-of-type {\n",
       "        vertical-align: middle;\n",
       "    }\n",
       "\n",
       "    .dataframe tbody tr th {\n",
       "        vertical-align: top;\n",
       "    }\n",
       "\n",
       "    .dataframe thead th {\n",
       "        text-align: right;\n",
       "    }\n",
       "</style>\n",
       "<table border=\"1\" class=\"dataframe\">\n",
       "  <thead>\n",
       "    <tr style=\"text-align: right;\">\n",
       "      <th></th>\n",
       "      <th>R_DA (nm)</th>\n",
       "      <th>kappasquare</th>\n",
       "    </tr>\n",
       "  </thead>\n",
       "  <tbody>\n",
       "    <tr>\n",
       "      <th>0.0</th>\n",
       "      <td>5.09</td>\n",
       "      <td>0.66</td>\n",
       "    </tr>\n",
       "    <tr>\n",
       "      <th>100.0</th>\n",
       "      <td>5.12</td>\n",
       "      <td>0.66</td>\n",
       "    </tr>\n",
       "    <tr>\n",
       "      <th>200.0</th>\n",
       "      <td>5.16</td>\n",
       "      <td>0.66</td>\n",
       "    </tr>\n",
       "    <tr>\n",
       "      <th>300.0</th>\n",
       "      <td>5.11</td>\n",
       "      <td>0.66</td>\n",
       "    </tr>\n",
       "    <tr>\n",
       "      <th>400.0</th>\n",
       "      <td>5.38</td>\n",
       "      <td>0.66</td>\n",
       "    </tr>\n",
       "  </tbody>\n",
       "</table>\n",
       "</div>"
      ],
      "text/plain": [
       "       R_DA (nm)  kappasquare\n",
       "0.0         5.09         0.66\n",
       "100.0       5.12         0.66\n",
       "200.0       5.16         0.66\n",
       "300.0       5.11         0.66\n",
       "400.0       5.38         0.66"
      ]
     },
     "execution_count": 3,
     "metadata": {},
     "output_type": "execute_result"
    }
   ],
   "source": [
    "pd.read_csv('burst_data/R_kappa.dat', sep='\\t', names=['R_DA (nm)', 'kappasquare']).head()"
   ]
  },
  {
   "cell_type": "markdown",
   "id": "09202814",
   "metadata": {},
   "source": [
    "An analytical burst size distribution $P(x)$ is specified as a power law with a coefficient $\\lambda$\n",
    "\n",
    "$$P(x) = x^\\lambda$$ \n",
    "\n",
    "Here we set the expoenent to $\\lambda=-2.3$. We can now start a burst experiment."
   ]
  },
  {
   "cell_type": "code",
   "execution_count": 4,
   "id": "421c08e4",
   "metadata": {},
   "outputs": [
    {
     "name": "stdout",
     "output_type": "stream",
     "text": [
      "Loading files...\n",
      "Orientation independent R0_const = 5.8 A\n",
      "\n",
      "              donor    acceptor\n",
      "QY            0.20    0.20\n",
      "tau (ns)      1.00    1.40\n",
      "k_f (ns^-1)   0.20    0.14\n",
      "k_ic (ns^-1)  0.80    0.57\n",
      "              \n",
      "Burst averaging method: all\n",
      "Calculate anisotropy: no\n",
      "\n"
     ]
    },
    {
     "data": {
      "application/vnd.jupyter.widget-view+json": {
       "model_id": "1138072499ea44a1adc2c1fe1768710a",
       "version_major": 2,
       "version_minor": 0
      },
      "text/plain": [
       "Calculating bursts:   0%|          | 0/5000 [? s]"
      ]
     },
     "metadata": {},
     "output_type": "display_data"
    },
    {
     "name": "stdout",
     "output_type": "stream",
     "text": [
      "Combining burst...\n"
     ]
    },
    {
     "name": "stdout",
     "output_type": "stream",
     "text": [
      "\n",
      "\n",
      "average FRET efficiency: 0.56 +- 0.10\n",
      "\n"
     ]
    }
   ],
   "source": [
    "experiment = ft.burst.Experiment('burst_data/', parameters)"
   ]
  },
  {
   "cell_type": "markdown",
   "id": "839315af",
   "metadata": {},
   "source": [
    "The resulting FRET histogram is broadened by shot-noise."
   ]
  },
  {
   "cell_type": "code",
   "execution_count": 5,
   "id": "f8c5666a",
   "metadata": {
    "tags": [
     "remove-cell"
    ]
   },
   "outputs": [],
   "source": [
    "sns.set_style('white')\n",
    "sns.set_context('notebook')\n",
    "\n",
    "def set_ticksStyle(x_size=4, y_size=4, x_dir='in', y_dir='in'):\n",
    "    sns.set_style('ticks', {'xtick.major.size': x_size, 'ytick.major.size': y_size, 'xtick.direction': x_dir, 'ytick.direction': y_dir})"
   ]
  },
  {
   "cell_type": "code",
   "execution_count": 6,
   "id": "ce57a7bf",
   "metadata": {},
   "outputs": [
    {
     "data": {
      "image/png": "[encoded data removed]",
      "text/plain": [
       "<Figure size 216x144 with 1 Axes>"
      ]
     },
     "metadata": {
      "filenames": {
       "image/png": "/home/runner/work/fretraj/fretraj/docs/_build/jupyter_execute/getting_started/photon_bursts_10_0.png"
      }
     },
     "output_type": "display_data"
    }
   ],
   "source": [
    "with sns.axes_style('ticks'):\n",
    "    set_ticksStyle()\n",
    "    f, ax=plt.subplots(nrows=1, ncols=1, figsize=(3, 2), sharex=True, sharey=True, squeeze=False)\n",
    "    ax[0, 0].hist(experiment.FRETefficiencies, bins=25, range=[0, 1], color=[0.75, 0.51, 0.38])\n",
    "    ax[0, 0].set_xlabel('FRET')\n",
    "    ax[0, 0].set_ylabel('occurence')"
   ]
  },
  {
   "cell_type": "markdown",
   "id": "ec59cb18",
   "metadata": {},
   "source": [
    "Launch **Binder** 🚀 to interact with this notebook."
   ]
  }
 ],
 "metadata": {
  "jupytext": {
   "formats": "ipynb,md:myst",
   "text_representation": {
    "extension": ".md",
    "format_name": "myst",
    "format_version": 0.13,
    "jupytext_version": "1.10.3"
   }
  },
  "kernelspec": {
   "display_name": "Python 3",
   "language": "python",
   "name": "python3"
  },
  "language_info": {
   "codemirror_mode": {
    "name": "ipython",
    "version": 3
   },
   "file_extension": ".py",
   "mimetype": "text/x-python",
   "name": "python",
   "nbconvert_exporter": "python",
   "pygments_lexer": "ipython3",
   "version": "3.9.9"
  },
  "source_map": [
   13,
   22,
   28,
   32,
   37,
   41,
   45,
   53,
   55,
   59,
   69,
   76
  ],
  "widgets": {
   "application/vnd.jupyter.widget-state+json": {
    "state": {
     "0067536388ad4a7191926c4db681c952": {
      "model_module": "@jupyter-widgets/controls",
      "model_module_version": "1.5.0",
      "model_name": "DescriptionStyleModel",
      "state": {
       "_model_module": "@jupyter-widgets/controls",
       "_model_module_version": "1.5.0",
       "_model_name": "DescriptionStyleModel",
       "_view_count": null,
       "_view_module": "@jupyter-widgets/base",
       "_view_module_version": "1.2.0",
       "_view_name": "StyleView",
       "description_width": ""
      }
     },
     "016fe1519bc74fb4937198b98c97ee85": {
      "model_module": "@jupyter-widgets/base",
      "model_module_version": "1.2.0",
      "model_name": "LayoutModel",
      "state": {
       "_model_module": "@jupyter-widgets/base",
       "_model_module_version": "1.2.0",
       "_model_name": "LayoutModel",
       "_view_count": null,
       "_view_module": "@jupyter-widgets/base",
       "_view_module_version": "1.2.0",
       "_view_name": "LayoutView",
       "align_content": null,
       "align_items": null,
       "align_self": null,
       "border": null,
       "bottom": null,
       "display": null,
       "flex": null,
       "flex_flow": null,
       "grid_area": null,
       "grid_auto_columns": null,
       "grid_auto_flow": null,
       "grid_auto_rows": null,
       "grid_column": null,
       "grid_gap": null,
       "grid_row": null,
       "grid_template_areas": null,
       "grid_template_columns": null,
       "grid_template_rows": null,
       "height": null,
       "justify_content": null,
       "justify_items": null,
       "left": null,
       "margin": null,
       "max_height": null,
       "max_width": null,
       "min_height": null,
       "min_width": null,
       "object_fit": null,
       "object_position": null,
       "order": null,
       "overflow": null,
       "overflow_x": null,
       "overflow_y": null,
       "padding": null,
       "right": null,
       "top": null,
       "visibility": null,
       "width": null
      }
     },
     "1138072499ea44a1adc2c1fe1768710a": {
      "model_module": "@jupyter-widgets/controls",
      "model_module_version": "1.5.0",
      "model_name": "HBoxModel",
      "state": {
       "_dom_classes": [],
       "_model_module": "@jupyter-widgets/controls",
       "_model_module_version": "1.5.0",
       "_model_name": "HBoxModel",
       "_view_count": null,
       "_view_module": "@jupyter-widgets/controls",
       "_view_module_version": "1.5.0",
       "_view_name": "HBoxView",
       "box_style": "",
       "children": [
        "IPY_MODEL_ce050e76bb884788be43aff3cce0a031",
        "IPY_MODEL_388e732351f54122bcdc5d315a6e60cd",
        "IPY_MODEL_6d541926c5334467b2718a750cf1b5cc"
       ],
       "layout": "IPY_MODEL_a3261f029dd3404eabae98a00bbcefce"
      }
     },
     "2d0cfe1b3eab4733bd623c122c7df536": {
      "model_module": "@jupyter-widgets/base",
      "model_module_version": "1.2.0",
      "model_name": "LayoutModel",
      "state": {
       "_model_module": "@jupyter-widgets/base",
       "_model_module_version": "1.2.0",
       "_model_name": "LayoutModel",
       "_view_count": null,
       "_view_module": "@jupyter-widgets/base",
       "_view_module_version": "1.2.0",
       "_view_name": "LayoutView",
       "align_content": null,
       "align_items": null,
       "align_self": null,
       "border": null,
       "bottom": null,
       "display": null,
       "flex": null,
       "flex_flow": null,
       "grid_area": null,
       "grid_auto_columns": null,
       "grid_auto_flow": null,
       "grid_auto_rows": null,
       "grid_column": null,
       "grid_gap": null,
       "grid_row": null,
       "grid_template_areas": null,
       "grid_template_columns": null,
       "grid_template_rows": null,
       "height": null,
       "justify_content": null,
       "justify_items": null,
       "left": null,
       "margin": null,
       "max_height": null,
       "max_width": null,
       "min_height": null,
       "min_width": null,
       "object_fit": null,
       "object_position": null,
       "order": null,
       "overflow": null,
       "overflow_x": null,
       "overflow_y": null,
       "padding": null,
       "right": null,
       "top": null,
       "visibility": null,
       "width": null
      }
     },
     "388e732351f54122bcdc5d315a6e60cd": {
      "model_module": "@jupyter-widgets/controls",
      "model_module_version": "1.5.0",
      "model_name": "FloatProgressModel",
      "state": {
       "_dom_classes": [],
       "_model_module": "@jupyter-widgets/controls",
       "_model_module_version": "1.5.0",
       "_model_name": "FloatProgressModel",
       "_view_count": null,
       "_view_module": "@jupyter-widgets/controls",
       "_view_module_version": "1.5.0",
       "_view_name": "ProgressView",
       "bar_style": "success",
       "description": "",
       "description_tooltip": null,
       "layout": "IPY_MODEL_016fe1519bc74fb4937198b98c97ee85",
       "max": 5000.0,
       "min": 0.0,
       "orientation": "horizontal",
       "style": "IPY_MODEL_b462696f7ac54bea84ed228b06f93544",
       "value": 5000.0
      }
     },
     "60be357d2d1f41159bc6beaa1c703f22": {
      "model_module": "@jupyter-widgets/controls",
      "model_module_version": "1.5.0",
      "model_name": "DescriptionStyleModel",
      "state": {
       "_model_module": "@jupyter-widgets/controls",
       "_model_module_version": "1.5.0",
       "_model_name": "DescriptionStyleModel",
       "_view_count": null,
       "_view_module": "@jupyter-widgets/base",
       "_view_module_version": "1.2.0",
       "_view_name": "StyleView",
       "description_width": ""
      }
     },
     "6d541926c5334467b2718a750cf1b5cc": {
      "model_module": "@jupyter-widgets/controls",
      "model_module_version": "1.5.0",
      "model_name": "HTMLModel",
      "state": {
       "_dom_classes": [],
       "_model_module": "@jupyter-widgets/controls",
       "_model_module_version": "1.5.0",
       "_model_name": "HTMLModel",
       "_view_count": null,
       "_view_module": "@jupyter-widgets/controls",
       "_view_module_version": "1.5.0",
       "_view_name": "HTMLView",
       "description": "",
       "description_tooltip": null,
       "layout": "IPY_MODEL_6e9d07c7ecb742f7a459d893272a845b",
       "placeholder": "​",
       "style": "IPY_MODEL_0067536388ad4a7191926c4db681c952",
       "value": " 5000/5000 [00:00 s]"
      }
     },
     "6e9d07c7ecb742f7a459d893272a845b": {
      "model_module": "@jupyter-widgets/base",
      "model_module_version": "1.2.0",
      "model_name": "LayoutModel",
      "state": {
       "_model_module": "@jupyter-widgets/base",
       "_model_module_version": "1.2.0",
       "_model_name": "LayoutModel",
       "_view_count": null,
       "_view_module": "@jupyter-widgets/base",
       "_view_module_version": "1.2.0",
       "_view_name": "LayoutView",
       "align_content": null,
       "align_items": null,
       "align_self": null,
       "border": null,
       "bottom": null,
       "display": null,
       "flex": null,
       "flex_flow": null,
       "grid_area": null,
       "grid_auto_columns": null,
       "grid_auto_flow": null,
       "grid_auto_rows": null,
       "grid_column": null,
       "grid_gap": null,
       "grid_row": null,
       "grid_template_areas": null,
       "grid_template_columns": null,
       "grid_template_rows": null,
       "height": null,
       "justify_content": null,
       "justify_items": null,
       "left": null,
       "margin": null,
       "max_height": null,
       "max_width": null,
       "min_height": null,
       "min_width": null,
       "object_fit": null,
       "object_position": null,
       "order": null,
       "overflow": null,
       "overflow_x": null,
       "overflow_y": null,
       "padding": null,
       "right": null,
       "top": null,
       "visibility": null,
       "width": null
      }
     },
     "a3261f029dd3404eabae98a00bbcefce": {
      "model_module": "@jupyter-widgets/base",
      "model_module_version": "1.2.0",
      "model_name": "LayoutModel",
      "state": {
       "_model_module": "@jupyter-widgets/base",
       "_model_module_version": "1.2.0",
       "_model_name": "LayoutModel",
       "_view_count": null,
       "_view_module": "@jupyter-widgets/base",
       "_view_module_version": "1.2.0",
       "_view_name": "LayoutView",
       "align_content": null,
       "align_items": null,
       "align_self": null,
       "border": null,
       "bottom": null,
       "display": null,
       "flex": null,
       "flex_flow": null,
       "grid_area": null,
       "grid_auto_columns": null,
       "grid_auto_flow": null,
       "grid_auto_rows": null,
       "grid_column": null,
       "grid_gap": null,
       "grid_row": null,
       "grid_template_areas": null,
       "grid_template_columns": null,
       "grid_template_rows": null,
       "height": null,
       "justify_content": null,
       "justify_items": null,
       "left": null,
       "margin": null,
       "max_height": null,
       "max_width": null,
       "min_height": null,
       "min_width": null,
       "object_fit": null,
       "object_position": null,
       "order": null,
       "overflow": null,
       "overflow_x": null,
       "overflow_y": null,
       "padding": null,
       "right": null,
       "top": null,
       "visibility": null,
       "width": null
      }
     },
     "b462696f7ac54bea84ed228b06f93544": {
      "model_module": "@jupyter-widgets/controls",
      "model_module_version": "1.5.0",
      "model_name": "ProgressStyleModel",
      "state": {
       "_model_module": "@jupyter-widgets/controls",
       "_model_module_version": "1.5.0",
       "_model_name": "ProgressStyleModel",
       "_view_count": null,
       "_view_module": "@jupyter-widgets/base",
       "_view_module_version": "1.2.0",
       "_view_name": "StyleView",
       "bar_color": null,
       "description_width": ""
      }
     },
     "ce050e76bb884788be43aff3cce0a031": {
      "model_module": "@jupyter-widgets/controls",
      "model_module_version": "1.5.0",
      "model_name": "HTMLModel",
      "state": {
       "_dom_classes": [],
       "_model_module": "@jupyter-widgets/controls",
       "_model_module_version": "1.5.0",
       "_model_name": "HTMLModel",
       "_view_count": null,
       "_view_module": "@jupyter-widgets/controls",
       "_view_module_version": "1.5.0",
       "_view_name": "HTMLView",
       "description": "",
       "description_tooltip": null,
       "layout": "IPY_MODEL_2d0cfe1b3eab4733bd623c122c7df536",
       "placeholder": "​",
       "style": "IPY_MODEL_60be357d2d1f41159bc6beaa1c703f22",
       "value": "Calculating bursts: 100%"
      }
     }
    },
    "version_major": 2,
    "version_minor": 0
   }
  }
 },
 "nbformat": 4,
 "nbformat_minor": 5
}