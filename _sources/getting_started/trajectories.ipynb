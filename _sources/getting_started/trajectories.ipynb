{
 "cells": [
  {
   "cell_type": "markdown",
   "id": "35613359",
   "metadata": {},
   "source": [
    "# Working with trajectories\n",
    "\n",
    "Running *FRETraj* with Jupyter has the advantage that we can easily work with\n",
    "trajectories and other **multi-model structures**. As we saw in the previous \n",
    "notebook, *FRETraj* uses `mdtraj` to load single and multi-frame objects. \n",
    "For demonstrative purposes, we work here with an extract of an MD trajectory \n",
    "from our DNA hairpin. A more detailed notebook with the full trajectory is \n",
    "available at [here](https://github.com/RNA-FRETools/FRETraj-demo)."
   ]
  },
  {
   "cell_type": "code",
   "execution_count": 1,
   "id": "23125075",
   "metadata": {},
   "outputs": [
    {
     "name": "stdout",
     "output_type": "stream",
     "text": [
      "The burst submodule could not be imported\n",
      "\n"
     ]
    }
   ],
   "source": [
    "import mdtraj as md\n",
    "import fretraj as ft\n",
    "from matplotlib import pyplot as plt\n",
    "import seaborn as sns\n",
    "import os\n",
    "example_dir = '../../src/fretraj/examples/'"
   ]
  },
  {
   "cell_type": "markdown",
   "id": "09e33d4b",
   "metadata": {},
   "source": [
    "First, we load multiple snapshots of the DNA hairpin from a 1$\\,\\mu$s MD trajectory as well as the associated labeling parameters."
   ]
  },
  {
   "cell_type": "code",
   "execution_count": 2,
   "id": "900c0afa",
   "metadata": {},
   "outputs": [
    {
     "name": "stdout",
     "output_type": "stream",
     "text": [
      "timestep: 100 ns\n",
      "length: 1000 ns\n"
     ]
    }
   ],
   "source": [
    "traj = md.load(os.path.join(example_dir+'DNA_hairpin.xtc'), \n",
    "               top=os.path.join(example_dir+'DNA_hairpin.pdb'),\n",
    "               stride=10)\n",
    "labels = ft.cloud.labeling_params(os.path.join(example_dir+'DNA_hairpin_labels.json'), verbose=False)\n",
    "print(f'timestep: {traj.timestep/1000 :.0f} ns')\n",
    "print(f'length: {traj.time[-1]/1000 :.0f} ns')"
   ]
  },
  {
   "cell_type": "markdown",
   "id": "6b2f863f",
   "metadata": {},
   "source": [
    "Next, we calculate ACVs along the trajectory (here every 100 ns, for simplicity)."
   ]
  },
  {
   "cell_type": "code",
   "execution_count": 3,
   "id": "da6f76ff",
   "metadata": {
    "tags": [
     "remove-output"
    ]
   },
   "outputs": [
    {
     "name": "stdout",
     "output_type": "stream",
     "text": [
      "\r",
      "Progress: |--------------------| 0% complete\r"
     ]
    },
    {
     "name": "stdout",
     "output_type": "stream",
     "text": [
      "\r",
      "Progress: |████----------------| 20% complete\r"
     ]
    },
    {
     "name": "stdout",
     "output_type": "stream",
     "text": [
      "\r",
      "Progress: |████████------------| 40% complete\r"
     ]
    },
    {
     "name": "stdout",
     "output_type": "stream",
     "text": [
      "\r",
      "Progress: |████████████--------| 60% complete\r"
     ]
    },
    {
     "name": "stdout",
     "output_type": "stream",
     "text": [
      "\r",
      "Progress: |████████████████----| 80% complete\r"
     ]
    },
    {
     "name": "stdout",
     "output_type": "stream",
     "text": [
      "\r",
      "Progress: |████████████████████| 100% complete\r\n",
      "\r",
      "Progress: |--------------------| 0% complete\r"
     ]
    },
    {
     "name": "stdout",
     "output_type": "stream",
     "text": [
      "\r",
      "Progress: |████----------------| 20% complete\r"
     ]
    },
    {
     "name": "stdout",
     "output_type": "stream",
     "text": [
      "\r",
      "Progress: |████████------------| 40% complete\r"
     ]
    },
    {
     "name": "stdout",
     "output_type": "stream",
     "text": [
      "\r",
      "Progress: |████████████--------| 60% complete\r"
     ]
    },
    {
     "name": "stdout",
     "output_type": "stream",
     "text": [
      "\r",
      "Progress: |████████████████----| 80% complete\r"
     ]
    },
    {
     "name": "stdout",
     "output_type": "stream",
     "text": [
      "\r",
      "Progress: |████████████████████| 100% complete\r\n"
     ]
    }
   ],
   "source": [
    "frames = range(int(traj.n_frames/2))\n",
    "acv_D = ft.cloud.Volume.from_frames(traj, 'Cy3-20-C5', labels, frames)\n",
    "acv_A = ft.cloud.Volume.from_frames(traj, 'Cy5-44-P1', labels, frames)"
   ]
  },
  {
   "cell_type": "markdown",
   "id": "2a734c71",
   "metadata": {},
   "source": [
    "Likewise, we compute a mean FRET efficiency per snapshot and combine them into a FRET trajectory."
   ]
  },
  {
   "cell_type": "code",
   "execution_count": 4,
   "id": "747e61f0",
   "metadata": {
    "tags": [
     "remove-output"
    ]
   },
   "outputs": [
    {
     "name": "stdout",
     "output_type": "stream",
     "text": [
      "\r",
      "Progress: |--------------------| 0% complete\r",
      "\r",
      "Progress: |████----------------| 20% complete\r"
     ]
    },
    {
     "name": "stdout",
     "output_type": "stream",
     "text": [
      "\r",
      "Progress: |████████------------| 40% complete\r",
      "\r",
      "Progress: |████████████--------| 60% complete\r"
     ]
    },
    {
     "name": "stdout",
     "output_type": "stream",
     "text": [
      "\r",
      "Progress: |████████████████----| 80% complete\r",
      "\r",
      "Progress: |████████████████████| 100% complete\r\n"
     ]
    }
   ],
   "source": [
    "fret = ft.cloud.FRET.from_volumes(acv_D, acv_A, 'Cy3-Cy5', labels)\n",
    "fret_traj = ft.cloud.Trajectory(fret, timestep=traj.timestep)"
   ]
  },
  {
   "cell_type": "code",
   "execution_count": 5,
   "id": "9b870db7",
   "metadata": {},
   "outputs": [
    {
     "data": {
      "text/html": [
       "<div>\n",
       "<style scoped>\n",
       "    .dataframe tbody tr th:only-of-type {\n",
       "        vertical-align: middle;\n",
       "    }\n",
       "\n",
       "    .dataframe tbody tr th {\n",
       "        vertical-align: top;\n",
       "    }\n",
       "\n",
       "    .dataframe thead th {\n",
       "        text-align: right;\n",
       "    }\n",
       "</style>\n",
       "<table border=\"1\" class=\"dataframe\">\n",
       "  <thead>\n",
       "    <tr style=\"text-align: right;\">\n",
       "      <th></th>\n",
       "      <th>&lt;R_DA&gt; (A)</th>\n",
       "      <th>&lt;E_DA&gt;</th>\n",
       "      <th>&lt;R_DA_E&gt; (A)</th>\n",
       "      <th>R_attach (A)</th>\n",
       "      <th>R_mp (A)</th>\n",
       "      <th>time (ps)</th>\n",
       "    </tr>\n",
       "  </thead>\n",
       "  <tbody>\n",
       "    <tr>\n",
       "      <th>0</th>\n",
       "      <td>51.0</td>\n",
       "      <td>0.58</td>\n",
       "      <td>51.2</td>\n",
       "      <td>44.4</td>\n",
       "      <td>48.2</td>\n",
       "      <td>0.0</td>\n",
       "    </tr>\n",
       "    <tr>\n",
       "      <th>1</th>\n",
       "      <td>51.1</td>\n",
       "      <td>0.58</td>\n",
       "      <td>51.2</td>\n",
       "      <td>43.5</td>\n",
       "      <td>48.4</td>\n",
       "      <td>100000.0</td>\n",
       "    </tr>\n",
       "    <tr>\n",
       "      <th>2</th>\n",
       "      <td>49.7</td>\n",
       "      <td>0.61</td>\n",
       "      <td>50.1</td>\n",
       "      <td>42.9</td>\n",
       "      <td>47.1</td>\n",
       "      <td>200000.0</td>\n",
       "    </tr>\n",
       "    <tr>\n",
       "      <th>3</th>\n",
       "      <td>50.6</td>\n",
       "      <td>0.59</td>\n",
       "      <td>50.9</td>\n",
       "      <td>43.8</td>\n",
       "      <td>47.9</td>\n",
       "      <td>300000.0</td>\n",
       "    </tr>\n",
       "    <tr>\n",
       "      <th>4</th>\n",
       "      <td>54.8</td>\n",
       "      <td>0.50</td>\n",
       "      <td>54.1</td>\n",
       "      <td>47.0</td>\n",
       "      <td>52.2</td>\n",
       "      <td>400000.0</td>\n",
       "    </tr>\n",
       "  </tbody>\n",
       "</table>\n",
       "</div>"
      ],
      "text/plain": [
       "   <R_DA> (A)  <E_DA>  <R_DA_E> (A)  R_attach (A)  R_mp (A)  time (ps)\n",
       "0        51.0    0.58          51.2          44.4      48.2        0.0\n",
       "1        51.1    0.58          51.2          43.5      48.4   100000.0\n",
       "2        49.7    0.61          50.1          42.9      47.1   200000.0\n",
       "3        50.6    0.59          50.9          43.8      47.9   300000.0\n",
       "4        54.8    0.50          54.1          47.0      52.2   400000.0"
      ]
     },
     "execution_count": 5,
     "metadata": {},
     "output_type": "execute_result"
    }
   ],
   "source": [
    "fret_traj.dataframe"
   ]
  },
  {
   "cell_type": "code",
   "execution_count": 6,
   "id": "4fdd6d10",
   "metadata": {
    "tags": [
     "remove-cell"
    ]
   },
   "outputs": [],
   "source": [
    "sns.set_style('white')\n",
    "sns.set_context('notebook')\n",
    "sns.set(font='Arial')\n",
    "\n",
    "def set_ticksStyle(x_size=4, y_size=4, x_dir='in', y_dir='in'):\n",
    "    sns.set_style('ticks', {'xtick.major.size': x_size, 'ytick.major.size': y_size, 'xtick.direction': x_dir, 'ytick.direction': y_dir})"
   ]
  },
  {
   "cell_type": "markdown",
   "id": "bd16dcdd",
   "metadata": {},
   "source": [
    "Launch **Binder** 🚀 to visualize the multi-ACV trajectory."
   ]
  },
  {
   "cell_type": "code",
   "execution_count": 7,
   "id": "59763ed3",
   "metadata": {
    "tags": [
     "remove-output"
    ]
   },
   "outputs": [
    {
     "ename": "AttributeError",
     "evalue": "module 'fretraj' has no attribute 'jupyter'",
     "output_type": "error",
     "traceback": [
      "\u001b[0;31m---------------------------------------------------------------------------\u001b[0m",
      "\u001b[0;31mAttributeError\u001b[0m                            Traceback (most recent call last)",
      "Cell \u001b[0;32mIn[7], line 3\u001b[0m\n\u001b[1;32m      1\u001b[0m acv_D_traj \u001b[38;5;241m=\u001b[39m ft\u001b[38;5;241m.\u001b[39mcloud\u001b[38;5;241m.\u001b[39mcreate_acv_traj(acv_D)\n\u001b[1;32m      2\u001b[0m acv_A_traj \u001b[38;5;241m=\u001b[39m ft\u001b[38;5;241m.\u001b[39mcloud\u001b[38;5;241m.\u001b[39mcreate_acv_traj(acv_A)\n\u001b[0;32m----> 3\u001b[0m \u001b[43mft\u001b[49m\u001b[38;5;241;43m.\u001b[39;49m\u001b[43mjupyter\u001b[49m\u001b[38;5;241m.\u001b[39mnglview_trajectory_ACV(traj, acv_D_traj[\u001b[38;5;124m'\u001b[39m\u001b[38;5;124mFV\u001b[39m\u001b[38;5;124m'\u001b[39m], acv_A_traj[\u001b[38;5;124m'\u001b[39m\u001b[38;5;124mFV\u001b[39m\u001b[38;5;124m'\u001b[39m], acv_D_traj[\u001b[38;5;124m'\u001b[39m\u001b[38;5;124mCV\u001b[39m\u001b[38;5;124m'\u001b[39m], acv_A_traj[\u001b[38;5;124m'\u001b[39m\u001b[38;5;124mCV\u001b[39m\u001b[38;5;124m'\u001b[39m])\n",
      "\u001b[0;31mAttributeError\u001b[0m: module 'fretraj' has no attribute 'jupyter'"
     ]
    }
   ],
   "source": [
    "acv_D_traj = ft.cloud.create_acv_traj(acv_D)\n",
    "acv_A_traj = ft.cloud.create_acv_traj(acv_A)\n",
    "ft.jupyter.nglview_trajectory_ACV(traj, acv_D_traj['FV'], acv_A_traj['FV'], acv_D_traj['CV'], acv_A_traj['CV'])"
   ]
  }
 ],
 "metadata": {
  "jupytext": {
   "formats": "ipynb,md:myst",
   "text_representation": {
    "extension": ".md",
    "format_name": "myst",
    "format_version": 0.13,
    "jupytext_version": "1.10.3"
   }
  },
  "kernelspec": {
   "display_name": "Python 3",
   "language": "python",
   "name": "python3"
  },
  "language_info": {
   "codemirror_mode": {
    "name": "ipython",
    "version": 3
   },
   "file_extension": ".py",
   "mimetype": "text/x-python",
   "name": "python",
   "nbconvert_exporter": "python",
   "pygments_lexer": "ipython3",
   "version": "3.9.18"
  },
  "source_map": [
   13,
   24,
   31,
   35,
   42,
   46,
   52,
   56,
   63,
   68,
   77,
   81
  ]
 },
 "nbformat": 4,
 "nbformat_minor": 5
}