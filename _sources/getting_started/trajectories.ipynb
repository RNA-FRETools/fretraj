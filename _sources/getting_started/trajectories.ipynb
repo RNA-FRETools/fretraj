{
 "cells": [
  {
   "cell_type": "markdown",
   "id": "failing-silicon",
   "metadata": {},
   "source": [
    "# Working with trajectories"
   ]
  },
  {
   "cell_type": "code",
   "execution_count": 1,
   "id": "distributed-flooring",
   "metadata": {},
   "outputs": [
    {
     "name": "stdout",
     "output_type": "stream",
     "text": [
      "\n",
      "Note: LabelLib module is not found. \n",
      "ACV calculation uses a Python-only algorithm\n",
      "\n"
     ]
    },
    {
     "data": {
      "application/vnd.jupyter.widget-view+json": {
       "model_id": "dc4c6c380dfe42b78a4518288554f45c",
       "version_major": 2,
       "version_minor": 0
      },
      "text/plain": []
     },
     "metadata": {},
     "output_type": "display_data"
    }
   ],
   "source": [
    "from matplotlib import pyplot as plt\n",
    "import mdtraj as md\n",
    "import fretraj as ft\n",
    "import os\n",
    "example_dir = '../../src/fretraj/examples/'"
   ]
  },
  {
   "cell_type": "markdown",
   "id": "unexpected-kitchen",
   "metadata": {},
   "source": [
    "We load again a DNA double helix but this time from a 1$\\,\\mu$s MD trajectory along with the labeling parameters."
   ]
  },
  {
   "cell_type": "code",
   "execution_count": 2,
   "id": "posted-bhutan",
   "metadata": {},
   "outputs": [
    {
     "name": "stdout",
     "output_type": "stream",
     "text": [
      "timestep: 100 ns\n",
      "length: 1000 ns\n"
     ]
    }
   ],
   "source": [
    "traj = md.load(os.path.join(example_dir+'DNA.xtc'), \n",
    "               top=os.path.join(example_dir+'DNA.pdb'),\n",
    "               stride=10)\n",
    "labels = ft.cloud.labeling_params(os.path.join(example_dir+'DNA_labels.json'), verbose=False)\n",
    "print(f'timestep: {traj.timestep/1000 :.0f} ns')\n",
    "print(f'length: {traj.time[-1]/1000 :.0f} ns')"
   ]
  },
  {
   "cell_type": "markdown",
   "id": "unexpected-calibration",
   "metadata": {},
   "source": [
    "Next, we calculate ACVs along the trajectory (here every 100 ns, for simplicity)."
   ]
  },
  {
   "cell_type": "code",
   "execution_count": 3,
   "id": "residential-rebound",
   "metadata": {
    "tags": [
     "remove-output"
    ]
   },
   "outputs": [
    {
     "name": "stdout",
     "output_type": "stream",
     "text": [
      "\r",
      "Progress: |--------------------| 0% complete\r"
     ]
    },
    {
     "name": "stdout",
     "output_type": "stream",
     "text": [
      "\r",
      "Progress: |█-------------------| 9% complete\r"
     ]
    },
    {
     "name": "stdout",
     "output_type": "stream",
     "text": [
      "\r",
      "Progress: |███-----------------| 18% complete\r"
     ]
    },
    {
     "name": "stdout",
     "output_type": "stream",
     "text": [
      "\r",
      "Progress: |█████---------------| 27% complete\r"
     ]
    },
    {
     "name": "stdout",
     "output_type": "stream",
     "text": [
      "\r",
      "Progress: |███████-------------| 36% complete\r"
     ]
    },
    {
     "name": "stdout",
     "output_type": "stream",
     "text": [
      "\r",
      "Progress: |█████████-----------| 45% complete\r"
     ]
    }
   ],
   "source": [
    "frames = range(traj.n_frames)\n",
    "acv_D = ft.cloud.Volume.from_frames(traj, 'D-DT23-C7', labels, frames)\n",
    "acv_A = ft.cloud.Volume.from_frames(traj, 'A-DT31-C7', labels, frames)"
   ]
  },
  {
   "cell_type": "markdown",
   "id": "wired-internship",
   "metadata": {},
   "source": [
    "Likewise, we compute a mean FRET efficiency per snapshot and combine them into a FRET trajectory."
   ]
  },
  {
   "cell_type": "code",
   "execution_count": null,
   "id": "integral-drawing",
   "metadata": {},
   "outputs": [],
   "source": [
    "fret = ft.cloud.FRET.from_volumes(acv_D, acv_A, 'Cy3-Cy5', labels)\n",
    "fret_traj = ft.cloud.Trajectory(fret, timestep=traj.timestep)\n",
    "fret_traj.dataframe"
   ]
  },
  {
   "cell_type": "markdown",
   "id": "inside-copyright",
   "metadata": {},
   "source": [
    "Launch **Binder** to visualize the multi-ACV trajectory."
   ]
  },
  {
   "cell_type": "code",
   "execution_count": null,
   "id": "received-conducting",
   "metadata": {},
   "outputs": [],
   "source": [
    "acv_D_traj = ft.cloud.create_acv_traj(acv_D)\n",
    "acv_A_traj = ft.cloud.create_acv_traj(acv_A)\n",
    "ft.jupyter.nglview_trajectory_ACV(traj, acv_D_traj['FV'], acv_A_traj['FV'], acv_D_traj['CV'], acv_A_traj['CV'])"
   ]
  }
 ],
 "metadata": {
  "jupytext": {
   "formats": "ipynb,md:myst",
   "text_representation": {
    "extension": ".md",
    "format_name": "myst",
    "format_version": 0.12,
    "jupytext_version": "1.8.2"
   }
  },
  "kernelspec": {
   "display_name": "Python 3",
   "language": "python",
   "name": "python3"
  },
  "language_info": {
   "codemirror_mode": {
    "name": "ipython",
    "version": 3
   },
   "file_extension": ".py",
   "mimetype": "text/x-python",
   "name": "python",
   "nbconvert_exporter": "python",
   "pygments_lexer": "ipython3",
   "version": "3.8.8"
  },
  "source_map": [
   13,
   17,
   23,
   27,
   34,
   38,
   44,
   48,
   52,
   56
  ]
 },
 "nbformat": 4,
 "nbformat_minor": 5
}